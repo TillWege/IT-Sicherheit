{
 "cells": [
  {
   "cell_type": "markdown",
   "metadata": {},
   "source": [
    "# Praktikum 1"
   ]
  },
  {
   "cell_type": "markdown",
   "metadata": {},
   "source": [
    "## Vorbereitung"
   ]
  },
  {
   "attachments": {},
   "cell_type": "markdown",
   "metadata": {},
   "source": [
    "### Überprüfung ob GPG installiert ist"
   ]
  },
  {
   "cell_type": "code",
   "execution_count": 28,
   "metadata": {
    "vscode": {
     "languageId": "shellscript"
    }
   },
   "outputs": [
    {
     "name": "stdout",
     "output_type": "stream",
     "text": [
      "gpg is installed\n"
     ]
    }
   ],
   "source": [
    "if ! command -v gpg &> /dev/null\n",
    "then\n",
    "    echo \"gpg could not be found\"\n",
    "else\n",
    "    echo \"gpg is installed\"\n",
    "fi"
   ]
  },
  {
   "attachments": {},
   "cell_type": "markdown",
   "metadata": {},
   "source": [
    "### aktuelles Verzeichnis ausgeben"
   ]
  },
  {
   "cell_type": "code",
   "execution_count": 29,
   "metadata": {
    "vscode": {
     "languageId": "shellscript"
    }
   },
   "outputs": [
    {
     "name": "stdout",
     "output_type": "stream",
     "text": [
      "/mnt/d/Code/University/IT-Sicherheit/Prak1\n"
     ]
    }
   ],
   "source": [
    "echo $PWD"
   ]
  },
  {
   "cell_type": "code",
   "execution_count": 30,
   "metadata": {
    "vscode": {
     "languageId": "shellscript"
    }
   },
   "outputs": [],
   "source": [
    "ALICE_MSG_NAME=\"alice_msg\"\n",
    "BOB_MSG_NAME=\"bob_msg\"\n",
    "CARL_MSG_NAME=\"carl_msg\""
   ]
  },
  {
   "attachments": {},
   "cell_type": "markdown",
   "metadata": {},
   "source": [
    "### Temporäre Dateien Löschen"
   ]
  },
  {
   "cell_type": "code",
   "execution_count": 31,
   "metadata": {
    "vscode": {
     "languageId": "shellscript"
    }
   },
   "outputs": [],
   "source": [
    "find . -type f  ! -name \"*.*\"  -delete"
   ]
  },
  {
   "attachments": {},
   "cell_type": "markdown",
   "metadata": {},
   "source": [
    "## Schritt 1: Alice, Bob und Carl erzeugen zuerst eine Testdatei (eine Nachricht)."
   ]
  },
  {
   "attachments": {},
   "cell_type": "markdown",
   "metadata": {},
   "source": [
    "### Aufgabe\n"
   ]
  },
  {
   "attachments": {},
   "cell_type": "markdown",
   "metadata": {},
   "source": [
    "Alice, Bob und Carl erzeugen zuerst eine Testdatei (eine Nachricht). \n",
    "Falls Ihnen keine Idee einfällt, können Sie folgendes Beispiel zugrunde legen; die Datei sollte nicht zu groß sein.\n",
    "\n",
    "``> echo 'Alices Testnachricht: Eine Zeile Text.' >> /tmp/nachr-alice``\n",
    "\n",
    "Zur Kontrolle, ob Sie das richtigen Zeichen („' “) gefunden haben:  \n",
    "\n",
    "``> less /tmp/nachr-alice Alices Testnachricht: Eine Zeile Text.``\n",
    "\n",
    "Diese Datei soll später signiert und verschlüsselt werden. \n",
    "Beachten Sie, dass Kommandobeispiele in diesem Dokument immer mit „>“ beginnen "
   ]
  },
  {
   "attachments": {},
   "cell_type": "markdown",
   "metadata": {},
   "source": [
    "### Lösung"
   ]
  },
  {
   "cell_type": "code",
   "execution_count": 32,
   "metadata": {
    "vscode": {
     "languageId": "shellscript"
    }
   },
   "outputs": [],
   "source": [
    "echo 'Alices Testnachricht: Eine Zeile Text.' >> $ALICE_MSG_NAME\n",
    "echo 'Bobs Testnachricht: Eine Zeile Text.' >> $BOB_MSG_NAME\n",
    "echo 'Carls Testnachricht: Eine Zeile Text.' >> $CARL_MSG_NAME"
   ]
  },
  {
   "attachments": {},
   "cell_type": "markdown",
   "metadata": {},
   "source": [
    "## Schritt 2: Alice, Bob und Carl generieren jetzt Schlüssel "
   ]
  },
  {
   "attachments": {},
   "cell_type": "markdown",
   "metadata": {},
   "source": [
    "### Aufgabe"
   ]
  },
  {
   "attachments": {},
   "cell_type": "markdown",
   "metadata": {},
   "source": [
    "Als Optionen können Sie wählen: „DSA…“ (falls verfügbar), „2048 bit“, „1 Jahr“ Gültigkeit, einen schönen gesetzlichen Namen für Alice und Bob (z.B. „Bob B Bergman“) und `{alice, bob, carl}@localhost` als eMail-Adressen.\n",
    "Sie sollten in der Lage sein, zu erklären, was diese Optionen bedeuten!  Alle Kommandos sollten Sie selbst herausfinden können. Im Notfall kann auch   \n",
    "\n",
    "``> gpg –-help``\n",
    "\n",
    "oder\n",
    "\n",
    "``> man gpg``\n",
    "\n",
    "helfen. "
   ]
  },
  {
   "attachments": {},
   "cell_type": "markdown",
   "metadata": {},
   "source": [
    "### Lösung"
   ]
  },
  {
   "cell_type": "code",
   "execution_count": null,
   "metadata": {
    "vscode": {
     "languageId": "shellscript"
    }
   },
   "outputs": [],
   "source": []
  }
 ],
 "metadata": {
  "kernelspec": {
   "display_name": "Bash",
   "language": "bash",
   "name": "bash"
  },
  "language_info": {
   "codemirror_mode": "shell",
   "file_extension": ".sh",
   "mimetype": "text/x-sh",
   "name": "bash"
  }
 },
 "nbformat": 4,
 "nbformat_minor": 4
}
